{
 "cells": [
  {
   "attachments": {},
   "cell_type": "markdown",
   "metadata": {},
   "source": [
    "## Análise de um empresa prestadora de serviços\n",
    "\n",
    "Vamos realizar um exercício prático de pandas para um miniprojeto de análise de dados.\n",
    "\n",
    "Este exercício vai nos obrigar a usar boa parte dos conhecimentos de pandas e até de outros módulos que já aprendemos ao longo do curso.\n",
    "\n",
    "### O que temos?\n",
    "\n",
    "Temos dados financeiros e operacionais de 2019 de uma empresa de prestação de serviços. \n",
    "\n",
    "- CadastroFuncionarios\n",
    "- CadastroClientes\n",
    "- BaseServiçosPrestados\n",
    "\n",
    "**Obs1:** Para ler arquivos no formato csv, podemos utilizar o método `read_csv`.  \n",
    "**Obs2:** Para ler arquivos no formato xlsx (arquivos Excel que não são padrão csv), podemos utilizar o método `read_excel`.\n",
    "\n",
    "### O que queremos saber/fazer?\n",
    "\n",
    "1. **Valor Total da Folha Salarial**  \n",
    "   Qual foi o gasto total com salários de funcionários pela empresa?  \n",
    "   Sugestão: calcule o salário total de cada funcionário, somando salário, benefícios e impostos, e depois some todos esses valores.\n",
    "\n",
    "2. **Qual foi o faturamento da empresa?**  \n",
    "   Sugestão: calcule o faturamento total de cada serviço prestado e, em seguida, some todos esses valores para obter o faturamento total da empresa.\n",
    "\n",
    "3. **Qual o % de funcionários que já fechou algum contrato?**  \n",
    "   Sugestão: na base de serviços, temos o funcionário que fechou cada serviço. Mas nem todos os funcionários que a empresa tem já fecharam algum serviço.\n",
    "   - Na base de funcionários temos uma lista com todos os funcionários.\n",
    "   - Queremos calcular `Qtde_Funcionarios_Fecharam_Serviço / Qtde_Funcionários_Totais`.\n",
    "   - Para calcular a quantidade de funcionários que fecharam algum serviço, use a base de serviços e conte quantos funcionários têm ali. Mas lembre-se, cada funcionário só pode ser contado uma única vez.\n",
    "\n",
    "   **Dica:** se você aplicar o método `.unique()` em uma variável que é apenas 1 coluna de um dataframe, o método `.unique()` vai excluir todos os valores duplicados daquela coluna.  \n",
    "   Ex: `unicos_colunaA = dataframe['colunaA'].unique()` te dá como resposta uma lista com todos os itens da colunaA aparecendo uma única vez. Todos os valores repetidos da colunaA são excluídos da variável `unicos_colunaA`.\n",
    "\n",
    "4. **Calcule o total de contratos que cada departamento ou setor da empresa já fechou.**\n",
    "\n",
    "5. **Calcule o total de funcionários por área.**\n",
    "\n",
    "6. **Qual o ticket médio mensal (faturamento médio mensal) dos contratos?**  \n",
    "   **Dica:** o método `.mean()` calcula a média. Para calcular a média da 'colunaA', você pode usar: `media_colunaA = dataframe['colunaA'].mean()`.\n",
    "\n",
    "**Obs:** Lembrando as opções mais usuais de encoding:  \n",
    "`encoding='latin1'`, `encoding='ISO-8859-1'`, `encoding='utf-8'` ou então `encoding='cp1252'`.\n",
    "\n",
    "**Observação Importante:** Se o seu código der um erro na hora de importar os arquivos:\n",
    "- CadastroClientes.csv\n",
    "- CadastroFuncionarios.csv\n",
    "\n",
    "Use o separador \";\" (ponto e vírgula) ao ler os arquivos para resolver.\n"
   ]
  },
  {
   "attachments": {},
   "cell_type": "markdown",
   "metadata": {},
   "source": [
    "Importacao de Modulos e Arquivos"
   ]
  },
  {
   "cell_type": "code",
   "execution_count": null,
   "metadata": {},
   "outputs": [],
   "source": [
    "import pandas as pd\n",
    "\n",
    "funcionarios_df = pd.read_csv('CadastroFuncionarios.csv', sep=';', decimal=',')\n",
    "clientes_df = pd.read_csv('CadastroClientes.csv', sep=';', decimal=',')\n",
    "servicos_df = pd.read_excel('BaseServiçosPrestados.xlsx')\n",
    "\n",
    "funcionarios_df = funcionarios_df.drop(['Estado Civil', 'Cargo'], axis=1)\n",
    "\n",
    "display(funcionarios_df)\n",
    "display(clientes_df)\n",
    "display(servicos_df)"
   ]
  },
  {
   "attachments": {},
   "cell_type": "markdown",
   "metadata": {},
   "source": [
    "1 - Folha Salarial"
   ]
  },
  {
   "cell_type": "code",
   "execution_count": null,
   "metadata": {},
   "outputs": [],
   "source": [
    "funcionarios_df['Salario Total'] = funcionarios_df['Salario Base'] + funcionarios_df['Impostos'] + funcionarios_df['Beneficios'] + funcionarios_df['VT'] + funcionarios_df['VR']\n",
    "\n",
    "# print(sum(funcionarios_df['Salario Total']))\n",
    "# print(funcionarios_df['Salario Total'].sum())\n",
    "print('Total de Folha Salarial Mensal é de R$ {:,}'.format(funcionarios_df['Salario Total'].sum()))"
   ]
  },
  {
   "attachments": {},
   "cell_type": "markdown",
   "metadata": {},
   "source": [
    "2 - Faturamento da Empresa"
   ]
  },
  {
   "cell_type": "code",
   "execution_count": null,
   "metadata": {},
   "outputs": [],
   "source": [
    "faturamentos_df = servicos_df[['ID Cliente', 'Tempo Total de Contrato (Meses)']].merge(clientes_df[['ID Cliente', 'Valor Contrato Mensal']], on='ID Cliente')\n",
    "\n",
    "faturamentos_df['Faturamento Total'] = faturamentos_df['Valor Contrato Mensal'] * faturamentos_df['Tempo Total de Contrato (Meses)']\n",
    "\n",
    "print('Fatutamento total da Empresa foi de R$ {:,}'.format(sum(faturamentos_df['Faturamento Total'])))"
   ]
  },
  {
   "attachments": {},
   "cell_type": "markdown",
   "metadata": {},
   "source": [
    "3 - % Funcionários Fecharam Contrato"
   ]
  },
  {
   "cell_type": "code",
   "execution_count": null,
   "metadata": {},
   "outputs": [],
   "source": [
    "quantidade_funcionario_fecharam_contrato = len(servicos_df['ID Funcionário'].unique())\n",
    "quantidade_funcionario_total = len(funcionarios_df['ID Funcionário'])\n",
    "\n",
    "print('Percentual Funcionários que fecharam contratos: {:.2%}'.format(quantidade_funcionario_fecharam_contrato / quantidade_funcionario_total))"
   ]
  },
  {
   "attachments": {},
   "cell_type": "markdown",
   "metadata": {},
   "source": [
    "4 - Quantidades de Contratos por área"
   ]
  },
  {
   "cell_type": "code",
   "execution_count": null,
   "metadata": {},
   "outputs": [],
   "source": [
    "contratos_area_df = servicos_df[['ID Funcionário']].merge(funcionarios_df[['ID Funcionário', 'Area']], on='ID Funcionário')\n",
    "contrato_area_quantidade = contratos_area_df['Area'].value_counts()\n",
    "print(contrato_area_quantidade)"
   ]
  },
  {
   "attachments": {},
   "cell_type": "markdown",
   "metadata": {},
   "source": [
    "5 - Funcionários por área"
   ]
  },
  {
   "cell_type": "code",
   "execution_count": null,
   "metadata": {},
   "outputs": [],
   "source": [
    "funcionarios_area_df = funcionarios_df[['Area']].value_counts()\n",
    "print(funcionarios_area_df)\n",
    "funcionarios_area_df.plot(kind='bar')"
   ]
  },
  {
   "attachments": {},
   "cell_type": "markdown",
   "metadata": {},
   "source": [
    "6 - Ticket Médio Mensal"
   ]
  },
  {
   "cell_type": "code",
   "execution_count": null,
   "metadata": {},
   "outputs": [],
   "source": [
    "ticket_medio = clientes_df['Valor Contrato Mensal'].mean()\n",
    "print('Ticket Médio: R$ {:,.2f}'.format(ticket_medio))"
   ]
  }
 ],
 "metadata": {
  "kernelspec": {
   "display_name": "Python 3.9.7 ('base')",
   "language": "python",
   "name": "python3"
  },
  "language_info": {
   "codemirror_mode": {
    "name": "ipython",
    "version": 3
   },
   "file_extension": ".py",
   "mimetype": "text/x-python",
   "name": "python",
   "nbconvert_exporter": "python",
   "pygments_lexer": "ipython3",
   "version": "3.9.7"
  },
  "orig_nbformat": 4,
  "vscode": {
   "interpreter": {
    "hash": "e5882f1a9d2529a8f07f4964a9aa2777d1ad98b2c770a4f48c3438835058b188"
   }
  }
 },
 "nbformat": 4,
 "nbformat_minor": 2
}
